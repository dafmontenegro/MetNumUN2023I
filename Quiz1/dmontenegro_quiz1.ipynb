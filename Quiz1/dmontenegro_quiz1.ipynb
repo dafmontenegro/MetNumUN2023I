{
  "cells": [
    {
      "cell_type": "code",
      "execution_count": 1,
      "metadata": {
        "id": "4kkesp9PQisR"
      },
      "outputs": [],
      "source": [
        "def FizzBuzz(x):\n",
        "    if (x % 3 == 0) and (not x % 5 == 0):\n",
        "      return \"Fizz!\"\n",
        "    elif (x % 5 == 0) and (not x % 3 == 0):\n",
        "      return \"Buzz!\"\n",
        "    elif (x % 5 == 0) and (x % 3 == 0):\n",
        "      return \"FizzBuzz!\"\n",
        "    else:\n",
        "      return \"...\"\n"
      ]
    },
    {
      "cell_type": "code",
      "execution_count": 10,
      "metadata": {
        "id": "dIYchJvEZMEJ"
      },
      "outputs": [],
      "source": [
        "def FizzBuzzList(n):\n",
        "    return [FizzBuzz(i+1) for i in range(n)]"
      ]
    },
    {
      "cell_type": "code",
      "execution_count": 7,
      "metadata": {
        "id": "vUf0_xqXgHSj"
      },
      "outputs": [],
      "source": [
        "import numpy as np\n",
        "\n",
        "def standarize(X):\n",
        "  X_standarized = (X - X.mean()) / X.std()\n",
        "  return X_standarized"
      ]
    },
    {
      "cell_type": "code",
      "execution_count": null,
      "metadata": {
        "id": "thogtwflo6-x"
      },
      "outputs": [],
      "source": [
        "import numpy as np\n",
        "\n",
        "def main_diagonal_matrix(A):\n",
        "  D = np.diag(np.diag(A.astype(float)))\n",
        "  return D"
      ]
    }
  ],
  "metadata": {
    "colab": {
      "include_colab_link": true,
      "provenance": []
    },
    "kernelspec": {
      "display_name": "Python 3",
      "name": "python3"
    }
  },
  "nbformat": 4,
  "nbformat_minor": 0
}
